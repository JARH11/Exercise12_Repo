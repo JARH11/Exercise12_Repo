{
  "metadata": {
    "kernelspec": {
      "name": "python",
      "display_name": "Python (Pyodide)",
      "language": "python"
    },
    "language_info": {
      "codemirror_mode": {
        "name": "python",
        "version": 3
      },
      "file_extension": ".py",
      "mimetype": "text/x-python",
      "name": "python",
      "nbconvert_exporter": "python",
      "pygments_lexer": "ipython3",
      "version": "3.8"
    }
  },
  "nbformat_minor": 5,
  "nbformat": 4,
  "cells": [
    {
      "id": "238c0e91-2488-4c6e-9153-3bc1134fb230",
      "cell_type": "markdown",
      "source": "# Data Science Tools and Ecosystem",
      "metadata": {}
    },
    {
      "id": "46ced64b-84d9-4bea-b237-a1d8ab908117",
      "cell_type": "markdown",
      "source": "In this notebook, Data Science Tools and Ecosystem are summarized.",
      "metadata": {}
    },
    {
      "id": "fbff9dbc-c3b1-4394-a320-688bc69b36fd",
      "cell_type": "markdown",
      "source": "__Objectives:__",
      "metadata": {}
    },
    {
      "id": "a7962b80-28b9-45da-8f7f-2457cf0c6884",
      "cell_type": "markdown",
      "source": "- List popular languages for Data Science\n- List popular libraries for Data Science\n- List popular Data Science tools",
      "metadata": {}
    },
    {
      "id": "4defbe29-8e4f-4194-8c83-f967a75d6328",
      "cell_type": "markdown",
      "source": "## Languages for Data Science",
      "metadata": {}
    },
    {
      "id": "e16a172d-483e-4446-8f84-c429a815ea90",
      "cell_type": "code",
      "source": "Some of the popular languages that Data Scientists use are:",
      "metadata": {
        "trusted": true
      },
      "outputs": [],
      "execution_count": null
    },
    {
      "id": "e8bedcf0-560c-490a-8df0-27a8390f0d43",
      "cell_type": "markdown",
      "source": "1. Python\n2. R\n3. SQL\n4. Julia\n5. Scala",
      "metadata": {}
    },
    {
      "id": "3419b944-231c-4ad1-a5fc-b6e237017f2f",
      "cell_type": "markdown",
      "source": "## Libraries for Data Science",
      "metadata": {}
    },
    {
      "id": "23d75868-3b19-43cd-91d5-4995670eb980",
      "cell_type": "markdown",
      "source": "Some of the commonly used libraries used by Data Scientists include:",
      "metadata": {}
    },
    {
      "id": "664c0111-9318-48d9-b701-1ced20cba6d1",
      "cell_type": "markdown",
      "source": "1. Numpy\n2. Pandas\n3. Matplotlib\n4. Scikitlearn\n5. TensorFlow",
      "metadata": {}
    },
    {
      "id": "a0a52131-890f-471f-b478-e70f99b56001",
      "cell_type": "markdown",
      "source": "## Data Science Tools",
      "metadata": {}
    },
    {
      "id": "f0f60d46-f33d-4341-8df3-39d4837a1681",
      "cell_type": "markdown",
      "source": "|Data Science Tools|\n|---|\n|JupyterLab|\n|RStudio|\n|VS Code|",
      "metadata": {}
    },
    {
      "id": "a181f353-7bb7-4f96-a523-aa2c713242b7",
      "cell_type": "markdown",
      "source": "## Arithmetic Expressions in Python",
      "metadata": {}
    },
    {
      "id": "26ca4aa2-0adc-45d3-ae26-65ad3427d879",
      "cell_type": "markdown",
      "source": "### Below are a few examples of evaluating arithmetic expressions in Python",
      "metadata": {}
    },
    {
      "id": "216fd433-2154-45e4-bcd1-ca0ca9225d27",
      "cell_type": "markdown",
      "source": "This a simple arithmetic expression to mutiply then add integers.",
      "metadata": {}
    },
    {
      "id": "24339302-c6d6-4f8e-a259-8b644b579c80",
      "cell_type": "code",
      "source": "(3*4)+5",
      "metadata": {
        "trusted": true
      },
      "outputs": [
        {
          "execution_count": 4,
          "output_type": "execute_result",
          "data": {
            "text/plain": "17"
          },
          "metadata": {}
        }
      ],
      "execution_count": 4
    },
    {
      "id": "784502a9-7623-4b9b-b874-5fb0c2524219",
      "cell_type": "markdown",
      "source": "This will convert 200 minutes to hours by diving by 60",
      "metadata": {}
    },
    {
      "id": "56ed8e57-09f6-489b-9e2d-bdae7efac8a7",
      "cell_type": "code",
      "source": "t_hours = 200/60\nprint(\"200 minutes to hours is:\")\nprint(t_hours)",
      "metadata": {
        "trusted": true
      },
      "outputs": [
        {
          "name": "stdout",
          "output_type": "stream",
          "text": "200 minutes to hours is:\n3.3333333333333335\n"
        }
      ],
      "execution_count": 16
    },
    {
      "id": "3e3cc6ab-77ba-4c1e-be0d-c4ffd3fdab16",
      "cell_type": "markdown",
      "source": "## Author",
      "metadata": {}
    },
    {
      "id": "70ff2d9f-766a-4942-8519-83c596e65735",
      "cell_type": "code",
      "source": "Jesús Alfredo Rodríguez Hernández",
      "metadata": {
        "trusted": true
      },
      "outputs": [],
      "execution_count": null
    }
  ]
}